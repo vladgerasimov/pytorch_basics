{
 "cells": [
  {
   "cell_type": "markdown",
   "metadata": {},
   "source": [
    "# Feed-forward сети\n",
    "\n",
    "Итак, давайте потренируемся тренировать нейронные сети прямого распространения (так как делали на паре)\n",
    "При этом попробуем создать свою функцию активации на одном из слоев"
   ]
  },
  {
   "cell_type": "code",
   "execution_count": 46,
   "metadata": {},
   "outputs": [],
   "source": [
    "# Сделаем необходимые импорты\n",
    "import torch\n",
    "from torch import nn\n",
    "from torchvision.datasets import CIFAR100\n",
    "from torchvision.transforms import transforms\n",
    "from torch.nn import functional as F\n",
    "from torch.optim import SGD\n",
    "import matplotlib.pyplot as plt"
   ]
  },
  {
   "cell_type": "code",
   "execution_count": 60,
   "metadata": {},
   "outputs": [
    {
     "name": "stdout",
     "output_type": "stream",
     "text": [
      "Files already downloaded and verified\n",
      "Files already downloaded and verified\n"
     ]
    }
   ],
   "source": [
    "# Загрузим датасет CIFAR-100, сразу же создадим dataloader для него\n",
    "# Если вам не хватает вычислительных ресурсов, то можно вернуться к CIFAR-10\n",
    "dataset = CIFAR100(root='data/', \n",
    "                   train=True, \n",
    "                   download=True, \n",
    "                   transform=transforms.ToTensor())\n",
    "\n",
    "test = CIFAR100(root='data/', \n",
    "                   train=False, \n",
    "                   download=True, \n",
    "                   transform=transforms.ToTensor())"
   ]
  },
  {
   "cell_type": "code",
   "execution_count": 65,
   "metadata": {},
   "outputs": [],
   "source": [
    "img, label = dataset[0]"
   ]
  },
  {
   "cell_type": "code",
   "execution_count": 67,
   "metadata": {},
   "outputs": [
    {
     "data": {
      "text/plain": [
       "<matplotlib.image.AxesImage at 0x7fa3cd8a1490>"
      ]
     },
     "execution_count": 67,
     "metadata": {},
     "output_type": "execute_result"
    },
    {
     "data": {
      "image/png": "[encoded data removed]",
      "text/plain": [
       "<Figure size 432x288 with 1 Axes>"
      ]
     },
     "metadata": {
      "needs_background": "light"
     },
     "output_type": "display_data"
    }
   ],
   "source": [
    "plt.imshow(img.permute(1, 2, 0).numpy())"
   ]
  },
  {
   "cell_type": "code",
   "execution_count": 68,
   "metadata": {},
   "outputs": [],
   "source": [
    "train_loader = torch.utils.data.DataLoader(dataset=dataset,\n",
    "                                     batch_size=64, \n",
    "                                     shuffle=True)"
   ]
  },
  {
   "cell_type": "code",
   "execution_count": 76,
   "metadata": {},
   "outputs": [
    {
     "data": {
      "text/plain": [
       "torch.Size([3, 32, 32])"
      ]
     },
     "execution_count": 76,
     "metadata": {},
     "output_type": "execute_result"
    }
   ],
   "source": [
    "img.shape"
   ]
  },
  {
   "cell_type": "code",
   "execution_count": 104,
   "metadata": {},
   "outputs": [],
   "source": [
    "# Создайте собственную архитектуру! Можете использовать все, что угодно, но в ограничении на использование линейные слои \n",
    "# (пока без сверток)\n",
    "# Давайте добавим ограниченный Leaky_relu, то есть output = max(0.1x, 0.5x)\n",
    "# Ваша задача добавить его в архитектуру сети как функцию активации\n",
    "\n",
    "class Net(nn.Module):\n",
    "    def __init__(self, input_size, hidden_size, output_size):\n",
    "        super().__init__()\n",
    "        self.fc1 = nn.Linear(input_size, hidden_size*2)\n",
    "        self.fc2 = nn.Linear(hidden_size*2, hidden_size)\n",
    "        self.fc3 = nn.Linear(hidden_size, output_size)\n",
    "        \n",
    "    def forward(self, x):\n",
    "        x = x.view(x.shape[0], -1)\n",
    "        x = self.fc1(x)\n",
    "        x = F.leaky_relu(x, 0.1)\n",
    "        x = self.fc2(x)\n",
    "        x = F.leaky_relu(x, 0.1)\n",
    "        x = self.fc3(x)\n",
    "        x = F.leaky_relu(x, 0.1)\n",
    "        return x\n",
    "        \n",
    "    def predict(self, x):\n",
    "        x = self.forward(x)\n",
    "        x = F.softmax(x)\n",
    "        return x\n",
    "    \n",
    "net = Net(input_size=3072, hidden_size=1024, output_size=100)"
   ]
  },
  {
   "cell_type": "code",
   "execution_count": 121,
   "metadata": {},
   "outputs": [],
   "source": [
    "# Запустить обучение (по аналогии с тем, что делали на паре)\n",
    "criterion = nn.CrossEntropyLoss()\n",
    "optimizer = SGD(net.parameters(), lr=0.1, momentum=0.9)"
   ]
  },
  {
   "cell_type": "code",
   "execution_count": 122,
   "metadata": {
    "scrolled": false
   },
   "outputs": [
    {
     "data": {
      "text/plain": [
       "Net(\n",
       "  (fc1): Linear(in_features=3072, out_features=2048, bias=True)\n",
       "  (fc2): Linear(in_features=2048, out_features=1024, bias=True)\n",
       "  (fc3): Linear(in_features=1024, out_features=100, bias=True)\n",
       ")"
      ]
     },
     "execution_count": 122,
     "metadata": {},
     "output_type": "execute_result"
    }
   ],
   "source": [
    "net"
   ]
  },
  {
   "cell_type": "code",
   "execution_count": 123,
   "metadata": {},
   "outputs": [
    {
     "name": "stdout",
     "output_type": "stream",
     "text": [
      "epoch = 0, batch = 0, loss = 4.610041618347168\n",
      "epoch = 0, batch = 100, loss = 453.4567060470581\n",
      "epoch = 0, batch = 200, loss = 433.0424220561981\n",
      "epoch = 0, batch = 300, loss = 427.0808401107788\n",
      "epoch = 0, batch = 400, loss = 421.35875248908997\n",
      "epoch = 0, batch = 500, loss = 419.48621678352356\n",
      "epoch = 0, batch = 600, loss = 411.8182418346405\n",
      "epoch = 0, batch = 700, loss = 412.4956212043762\n",
      "epoch = 1, batch = 0, loss = 4.71286678314209\n",
      "epoch = 1, batch = 100, loss = 406.419429063797\n",
      "epoch = 1, batch = 200, loss = 407.45989775657654\n",
      "epoch = 1, batch = 300, loss = 408.66586661338806\n",
      "epoch = 1, batch = 400, loss = 405.81700134277344\n",
      "epoch = 1, batch = 500, loss = 403.6962788105011\n",
      "epoch = 1, batch = 600, loss = 403.88632440567017\n",
      "epoch = 1, batch = 700, loss = 406.4465367794037\n"
     ]
    }
   ],
   "source": [
    "n_epoch = 2\n",
    "for epoch in range(n_epoch):\n",
    "    running_loss = 0\n",
    "    for idx, batch in enumerate(train_loader):\n",
    "        X, y = batch\n",
    "        optimizer.zero_grad()\n",
    "        pred = net(X)\n",
    "        loss = criterion(pred, y)\n",
    "        loss.backward()\n",
    "        optimizer.step()\n",
    "        running_loss += loss.item()\n",
    "        if idx % 100 == 0:\n",
    "            print(f'epoch = {epoch}, batch = {idx}, loss = {running_loss}')\n",
    "            running_loss = 0"
   ]
  }
 ],
 "metadata": {
  "kernelspec": {
   "display_name": "Python 3",
   "language": "python",
   "name": "python3"
  },
  "language_info": {
   "codemirror_mode": {
    "name": "ipython",
    "version": 3
   },
   "file_extension": ".py",
   "mimetype": "text/x-python",
   "name": "python",
   "nbconvert_exporter": "python",
   "pygments_lexer": "ipython3",
   "version": "3.8.5"
  }
 },
 "nbformat": 4,
 "nbformat_minor": 2
}
