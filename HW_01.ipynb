{
 "cells": [
  {
   "cell_type": "code",
   "execution_count": 2,
   "metadata": {},
   "outputs": [],
   "source": [
    "import torch"
   ]
  },
  {
   "cell_type": "code",
   "execution_count": 8,
   "metadata": {},
   "outputs": [
    {
     "data": {
      "text/plain": [
       "tensor([[[0.8089, 0.5742, 0.5476, 0.2565, 0.4135],\n",
       "         [0.8375, 0.5319, 0.7208, 0.6664, 0.5048],\n",
       "         [0.8492, 0.7003, 0.5670, 0.2892, 0.2346],\n",
       "         [0.0970, 0.0692, 0.5940, 0.3655, 0.1117]],\n",
       "\n",
       "        [[0.2340, 0.1451, 0.7312, 0.0249, 0.4571],\n",
       "         [0.7935, 0.5243, 0.6308, 0.0580, 0.6199],\n",
       "         [0.8226, 0.3565, 0.2559, 0.0518, 0.5775],\n",
       "         [0.8073, 0.9867, 0.0115, 0.0825, 0.3351]],\n",
       "\n",
       "        [[0.7172, 0.0342, 0.2609, 0.1586, 0.1025],\n",
       "         [0.4277, 0.8135, 0.3235, 0.0475, 0.5663],\n",
       "         [0.5291, 0.3153, 0.6196, 0.9438, 0.0567],\n",
       "         [0.4860, 0.9384, 0.0416, 0.2626, 0.1848]]])"
      ]
     },
     "execution_count": 8,
     "metadata": {},
     "output_type": "execute_result"
    }
   ],
   "source": [
    "# Создайте случайный FloatTensor размера 3x4x5\n",
    "tensor = torch.rand(3, 4, 5)\n",
    "tensor"
   ]
  },
  {
   "cell_type": "code",
   "execution_count": 9,
   "metadata": {},
   "outputs": [
    {
     "data": {
      "text/plain": [
       "torch.Size([3, 4, 5])"
      ]
     },
     "execution_count": 9,
     "metadata": {},
     "output_type": "execute_result"
    }
   ],
   "source": [
    "# Выведите его форму (shape)\n",
    "tensor.shape"
   ]
  },
  {
   "cell_type": "code",
   "execution_count": 11,
   "metadata": {},
   "outputs": [
    {
     "data": {
      "text/plain": [
       "tensor([[0.8089, 0.5742, 0.5476, 0.2565, 0.4135, 0.8375, 0.5319, 0.7208, 0.6664,\n",
       "         0.5048],\n",
       "        [0.8492, 0.7003, 0.5670, 0.2892, 0.2346, 0.0970, 0.0692, 0.5940, 0.3655,\n",
       "         0.1117],\n",
       "        [0.2340, 0.1451, 0.7312, 0.0249, 0.4571, 0.7935, 0.5243, 0.6308, 0.0580,\n",
       "         0.6199],\n",
       "        [0.8226, 0.3565, 0.2559, 0.0518, 0.5775, 0.8073, 0.9867, 0.0115, 0.0825,\n",
       "         0.3351],\n",
       "        [0.7172, 0.0342, 0.2609, 0.1586, 0.1025, 0.4277, 0.8135, 0.3235, 0.0475,\n",
       "         0.5663],\n",
       "        [0.5291, 0.3153, 0.6196, 0.9438, 0.0567, 0.4860, 0.9384, 0.0416, 0.2626,\n",
       "         0.1848]])"
      ]
     },
     "execution_count": 11,
     "metadata": {},
     "output_type": "execute_result"
    }
   ],
   "source": [
    "# Приведите его к форме 6 X 10\n",
    "tensor = tensor.reshape(6, 10)\n",
    "tensor"
   ]
  },
  {
   "cell_type": "code",
   "execution_count": 18,
   "metadata": {},
   "outputs": [
    {
     "data": {
      "text/plain": [
       "tensor([[0.8089, 2.2969, 1.0953, 0.5130, 0.4135, 0.8375, 2.1274, 1.4416, 1.3328,\n",
       "         0.5048],\n",
       "        [0.8492, 2.8011, 1.1340, 0.5783, 0.2346, 0.0970, 0.2767, 1.1879, 0.7311,\n",
       "         0.1117],\n",
       "        [0.2340, 0.5803, 1.4624, 0.0498, 0.4571, 0.7935, 2.0970, 1.2615, 0.1160,\n",
       "         0.6199],\n",
       "        [0.8226, 1.4261, 0.5119, 0.1036, 0.5775, 0.8073, 3.9466, 0.0229, 0.1650,\n",
       "         0.3351],\n",
       "        [0.7172, 0.1367, 0.5217, 0.3173, 0.1025, 0.4277, 3.2540, 0.6470, 0.0950,\n",
       "         0.5663],\n",
       "        [0.5291, 1.2613, 1.2393, 1.8877, 0.0567, 0.4860, 3.7534, 0.0831, 0.5251,\n",
       "         0.1848]])"
      ]
     },
     "execution_count": 18,
     "metadata": {},
     "output_type": "execute_result"
    }
   ],
   "source": [
    "tensor * torch.LongTensor([1, 4, 2, 2, 1] * 2)"
   ]
  },
  {
   "cell_type": "code",
   "execution_count": 19,
   "metadata": {},
   "outputs": [],
   "source": [
    "# Умножьте его на вектор [1, 4, 2, 2, 1] поэлементно\n",
    "tensor = tensor * torch.LongTensor([1, 4, 2, 2, 1] * 2)\n",
    "\n",
    "# Не удалось умножить тензор размера 6х10 на тензор размера 1х5, длины должны совпадать, поэтому я увеличил длину \n",
    "# второго тензора вдвое"
   ]
  },
  {
   "cell_type": "code",
   "execution_count": 22,
   "metadata": {},
   "outputs": [
    {
     "name": "stdout",
     "output_type": "stream",
     "text": [
      "tensor([[16.9009, 12.1697, 10.7504, 14.2880, 10.2969, 14.9793],\n",
      "        [12.1697, 12.2866,  5.9283,  6.8246,  3.6344,  8.0815],\n",
      "        [10.7504,  5.9283,  9.7579, 11.2102,  9.4141, 11.3250],\n",
      "        [14.2880,  6.8246, 11.2102, 19.6842, 14.5518, 18.4528],\n",
      "        [10.2969,  3.6344,  9.4141, 14.5518, 12.4361, 14.4330],\n",
      "        [14.9793,  8.0815, 11.3250, 18.4528, 14.4330, 21.6143]])\n",
      "torch.Size([6, 6])\n"
     ]
    }
   ],
   "source": [
    "# Умножьте тензор матрично на себя, чтобы результат был размерности 6x6\n",
    "\n",
    "print(tensor @ tensor.T)\n",
    "print((tensor @ tensor.T).shape)"
   ]
  },
  {
   "cell_type": "code",
   "execution_count": 29,
   "metadata": {},
   "outputs": [],
   "source": [
    "# Посчитайте производную функции y = x**3 + z - 75t в точке (1, 0.5, 2)\n",
    "from torch.autograd import Variable\n",
    "\n",
    "x = Variable(torch.tensor([1.]), requires_grad=True)\n",
    "z = Variable(torch.tensor([0.5]), requires_grad=True)\n",
    "t = Variable(torch.tensor([2.]), requires_grad=True)\n",
    "y = x**3 + z - 75*t"
   ]
  },
  {
   "cell_type": "code",
   "execution_count": 32,
   "metadata": {},
   "outputs": [],
   "source": [
    "y.backward([x, z, t])"
   ]
  },
  {
   "cell_type": "code",
   "execution_count": 36,
   "metadata": {},
   "outputs": [
    {
     "name": "stdout",
     "output_type": "stream",
     "text": [
      "\n",
      "    dy/dx = tensor([3.]);\n",
      "    dy/dz = tensor([1.]);\n",
      "    dy/dt = tensor([-75.])\n",
      "\n"
     ]
    }
   ],
   "source": [
    "print(f\"\"\"\n",
    "    dy/dx = {x.grad};\n",
    "    dy/dz = {z.grad};\n",
    "    dy/dt = {t.grad}\n",
    "\"\"\")"
   ]
  },
  {
   "cell_type": "code",
   "execution_count": 40,
   "metadata": {},
   "outputs": [
    {
     "data": {
      "text/plain": [
       "tensor([[1., 1., 1., 1., 1., 1.],\n",
       "        [1., 1., 1., 1., 1., 1.],\n",
       "        [1., 1., 1., 1., 1., 1.],\n",
       "        [1., 1., 1., 1., 1., 1.],\n",
       "        [1., 1., 1., 1., 1., 1.]])"
      ]
     },
     "execution_count": 40,
     "metadata": {},
     "output_type": "execute_result"
    }
   ],
   "source": [
    "# Создайте единичный тензор размера 5x6\n",
    "ones = torch.ones(5, 6)\n",
    "ones"
   ]
  },
  {
   "cell_type": "code",
   "execution_count": 41,
   "metadata": {},
   "outputs": [
    {
     "data": {
      "text/plain": [
       "array([[1., 1., 1., 1., 1., 1.],\n",
       "       [1., 1., 1., 1., 1., 1.],\n",
       "       [1., 1., 1., 1., 1., 1.],\n",
       "       [1., 1., 1., 1., 1., 1.],\n",
       "       [1., 1., 1., 1., 1., 1.]], dtype=float32)"
      ]
     },
     "execution_count": 41,
     "metadata": {},
     "output_type": "execute_result"
    }
   ],
   "source": [
    "# Переведите его в формат numpy\n",
    "ones.numpy()"
   ]
  },
  {
   "cell_type": "code",
   "execution_count": 81,
   "metadata": {},
   "outputs": [],
   "source": [
    "# Давайте теперь пооптимизируем: возьмите функцию y = x**w1 - 2 * x**2 + 5\n",
    "# Посчитайте "
   ]
  },
  {
   "cell_type": "code",
   "execution_count": 82,
   "metadata": {},
   "outputs": [],
   "source": [
    "from torch.optim import SGD"
   ]
  },
  {
   "cell_type": "code",
   "execution_count": 83,
   "metadata": {},
   "outputs": [
    {
     "name": "stdout",
     "output_type": "stream",
     "text": [
      "tensor([4.], grad_fn=<AddBackward0>)\n"
     ]
    }
   ],
   "source": [
    "x = Variable(torch.tensor([1.]), requires_grad=True)\n",
    "w = Variable(torch.tensor([1.]), requires_grad=True)\n",
    "y = x**w - 2 * x**2 + 5\n",
    "print(y)"
   ]
  },
  {
   "cell_type": "code",
   "execution_count": 84,
   "metadata": {},
   "outputs": [],
   "source": [
    "optimizer = SGD([x, w], lr=0.1)\n",
    "y.backward()\n",
    "optimizer.step()"
   ]
  },
  {
   "cell_type": "code",
   "execution_count": 95,
   "metadata": {},
   "outputs": [
    {
     "ename": "RuntimeError",
     "evalue": "Trying to backward through the graph a second time (or directly access saved variables after they have already been freed). Saved intermediate values of the graph are freed when you call .backward() or autograd.grad(). Specify retain_graph=True if you need to backward through the graph a second time or if you need to access saved variables after calling backward.",
     "output_type": "error",
     "traceback": [
      "\u001b[0;31m---------------------------------------------------------------------------\u001b[0m",
      "\u001b[0;31mRuntimeError\u001b[0m                              Traceback (most recent call last)",
      "\u001b[0;32m<ipython-input-95-ab75bb780f4c>\u001b[0m in \u001b[0;36m<module>\u001b[0;34m\u001b[0m\n\u001b[0;32m----> 1\u001b[0;31m \u001b[0my\u001b[0m\u001b[0;34m.\u001b[0m\u001b[0mbackward\u001b[0m\u001b[0;34m(\u001b[0m\u001b[0;34m)\u001b[0m\u001b[0;34m\u001b[0m\u001b[0;34m\u001b[0m\u001b[0m\n\u001b[0m",
      "\u001b[0;32m/opt/anaconda3/lib/python3.8/site-packages/torch-1.9.0-py3.8-macosx-10.9-x86_64.egg/torch/_tensor.py\u001b[0m in \u001b[0;36mbackward\u001b[0;34m(self, gradient, retain_graph, create_graph, inputs)\u001b[0m\n\u001b[1;32m    253\u001b[0m                 \u001b[0mcreate_graph\u001b[0m\u001b[0;34m=\u001b[0m\u001b[0mcreate_graph\u001b[0m\u001b[0;34m,\u001b[0m\u001b[0;34m\u001b[0m\u001b[0;34m\u001b[0m\u001b[0m\n\u001b[1;32m    254\u001b[0m                 inputs=inputs)\n\u001b[0;32m--> 255\u001b[0;31m         \u001b[0mtorch\u001b[0m\u001b[0;34m.\u001b[0m\u001b[0mautograd\u001b[0m\u001b[0;34m.\u001b[0m\u001b[0mbackward\u001b[0m\u001b[0;34m(\u001b[0m\u001b[0mself\u001b[0m\u001b[0;34m,\u001b[0m \u001b[0mgradient\u001b[0m\u001b[0;34m,\u001b[0m \u001b[0mretain_graph\u001b[0m\u001b[0;34m,\u001b[0m \u001b[0mcreate_graph\u001b[0m\u001b[0;34m,\u001b[0m \u001b[0minputs\u001b[0m\u001b[0;34m=\u001b[0m\u001b[0minputs\u001b[0m\u001b[0;34m)\u001b[0m\u001b[0;34m\u001b[0m\u001b[0;34m\u001b[0m\u001b[0m\n\u001b[0m\u001b[1;32m    256\u001b[0m \u001b[0;34m\u001b[0m\u001b[0m\n\u001b[1;32m    257\u001b[0m     \u001b[0;32mdef\u001b[0m \u001b[0mregister_hook\u001b[0m\u001b[0;34m(\u001b[0m\u001b[0mself\u001b[0m\u001b[0;34m,\u001b[0m \u001b[0mhook\u001b[0m\u001b[0;34m)\u001b[0m\u001b[0;34m:\u001b[0m\u001b[0;34m\u001b[0m\u001b[0;34m\u001b[0m\u001b[0m\n",
      "\u001b[0;32m/opt/anaconda3/lib/python3.8/site-packages/torch-1.9.0-py3.8-macosx-10.9-x86_64.egg/torch/autograd/__init__.py\u001b[0m in \u001b[0;36mbackward\u001b[0;34m(tensors, grad_tensors, retain_graph, create_graph, grad_variables, inputs)\u001b[0m\n\u001b[1;32m    145\u001b[0m         \u001b[0mretain_graph\u001b[0m \u001b[0;34m=\u001b[0m \u001b[0mcreate_graph\u001b[0m\u001b[0;34m\u001b[0m\u001b[0;34m\u001b[0m\u001b[0m\n\u001b[1;32m    146\u001b[0m \u001b[0;34m\u001b[0m\u001b[0m\n\u001b[0;32m--> 147\u001b[0;31m     Variable._execution_engine.run_backward(\n\u001b[0m\u001b[1;32m    148\u001b[0m         \u001b[0mtensors\u001b[0m\u001b[0;34m,\u001b[0m \u001b[0mgrad_tensors_\u001b[0m\u001b[0;34m,\u001b[0m \u001b[0mretain_graph\u001b[0m\u001b[0;34m,\u001b[0m \u001b[0mcreate_graph\u001b[0m\u001b[0;34m,\u001b[0m \u001b[0minputs\u001b[0m\u001b[0;34m,\u001b[0m\u001b[0;34m\u001b[0m\u001b[0;34m\u001b[0m\u001b[0m\n\u001b[1;32m    149\u001b[0m         allow_unreachable=True, accumulate_grad=True)  # allow_unreachable flag\n",
      "\u001b[0;31mRuntimeError\u001b[0m: Trying to backward through the graph a second time (or directly access saved variables after they have already been freed). Saved intermediate values of the graph are freed when you call .backward() or autograd.grad(). Specify retain_graph=True if you need to backward through the graph a second time or if you need to access saved variables after calling backward."
     ]
    }
   ],
   "source": [
    "y.backward()"
   ]
  },
  {
   "cell_type": "code",
   "execution_count": 91,
   "metadata": {},
   "outputs": [
    {
     "data": {
      "text/plain": [
       "(tensor([-3.]), tensor([0.]))"
      ]
     },
     "execution_count": 91,
     "metadata": {},
     "output_type": "execute_result"
    }
   ],
   "source": [
    "x.grad, w.grad"
   ]
  }
 ],
 "metadata": {
  "kernelspec": {
   "display_name": "Python 3",
   "language": "python",
   "name": "python3"
  },
  "language_info": {
   "codemirror_mode": {
    "name": "ipython",
    "version": 3
   },
   "file_extension": ".py",
   "mimetype": "text/x-python",
   "name": "python",
   "nbconvert_exporter": "python",
   "pygments_lexer": "ipython3",
   "version": "3.8.5"
  }
 },
 "nbformat": 4,
 "nbformat_minor": 2
}
